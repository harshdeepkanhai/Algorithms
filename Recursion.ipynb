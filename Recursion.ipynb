{
 "cells": [
  {
   "cell_type": "markdown",
   "id": "790297d6-a8a6-44f3-ae38-25bd778b4383",
   "metadata": {},
   "source": [
    "# Recursion"
   ]
  },
  {
   "cell_type": "markdown",
   "id": "e95fef26-c41b-4275-97ca-bc26f8a35276",
   "metadata": {},
   "source": [
    "## Recursive Digit sum\n",
    "1. https://www.hackerrank.com/challenges/recursive-digit-sum/problem?isFullScreen=true\n"
   ]
  },
  {
   "cell_type": "code",
   "execution_count": 3,
   "id": "6fa08de2-0208-4ee2-84a1-334bf979aedc",
   "metadata": {},
   "outputs": [],
   "source": [
    "def superDigit(n, k):\n",
    "    # Write your code here\n",
    "    if len(str(n)) > 1:\n",
    "        sumDigit = sum(list(map(int,n)))\n",
    "        return superDigit(str(sumDigit)*k,1)\n",
    "    else:\n",
    "        return int(n)"
   ]
  },
  {
   "cell_type": "code",
   "execution_count": 8,
   "id": "2df47727-ccf2-4caa-8849-2ad9990b92c9",
   "metadata": {},
   "outputs": [
    {
     "name": "stdin",
     "output_type": "stream",
     "text": [
      " 9875 4\n"
     ]
    },
    {
     "data": {
      "text/plain": [
       "8"
      ]
     },
     "execution_count": 8,
     "metadata": {},
     "output_type": "execute_result"
    }
   ],
   "source": [
    "n,k = input().split()\n",
    "k= int(k)\n",
    "superDigit(n,k)"
   ]
  },
  {
   "cell_type": "code",
   "execution_count": null,
   "id": "bb6e032c-fd73-4a0f-a7f0-1a406bb715a7",
   "metadata": {},
   "outputs": [],
   "source": []
  }
 ],
 "metadata": {
  "kernelspec": {
   "display_name": "Python 3 (ipykernel)",
   "language": "python",
   "name": "python3"
  },
  "language_info": {
   "codemirror_mode": {
    "name": "ipython",
    "version": 3
   },
   "file_extension": ".py",
   "mimetype": "text/x-python",
   "name": "python",
   "nbconvert_exporter": "python",
   "pygments_lexer": "ipython3",
   "version": "3.9.5"
  }
 },
 "nbformat": 4,
 "nbformat_minor": 5
}
