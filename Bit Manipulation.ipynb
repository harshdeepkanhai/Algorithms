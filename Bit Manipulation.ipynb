{
 "cells": [
  {
   "cell_type": "markdown",
   "id": "4f2e7a0a-5031-409c-997b-6eec0c553755",
   "metadata": {},
   "source": [
    "# Bit Manipulation"
   ]
  },
  {
   "cell_type": "markdown",
   "id": "2661a3a1-190a-4d74-a6ae-a0d73a7c7486",
   "metadata": {},
   "source": [
    "## Lonely Integer\n",
    "1. https://www.hackerrank.com/challenges/lonely-integer/problem"
   ]
  },
  {
   "cell_type": "code",
   "execution_count": 2,
   "id": "96189558-8741-42e5-97b8-7f04e93bc215",
   "metadata": {},
   "outputs": [],
   "source": [
    "def lonelyinteger(a):\n",
    "    # Write your code here\n",
    "    result = 0\n",
    "    for i in a:\n",
    "        result ^= i\n",
    "    return result"
   ]
  },
  {
   "cell_type": "code",
   "execution_count": 3,
   "id": "cf38430f-b436-4efe-a8cf-cd299f5dcb02",
   "metadata": {},
   "outputs": [
    {
     "data": {
      "text/plain": [
       "2"
      ]
     },
     "execution_count": 3,
     "metadata": {},
     "output_type": "execute_result"
    }
   ],
   "source": [
    "lonelyinteger([0, 0, 1, 2 ,1])"
   ]
  },
  {
   "cell_type": "code",
   "execution_count": 9,
   "id": "cc3ca095-8890-4acb-9fa9-b988ac9e09b0",
   "metadata": {},
   "outputs": [
    {
     "data": {
      "text/plain": [
       "0"
      ]
     },
     "execution_count": 9,
     "metadata": {},
     "output_type": "execute_result"
    }
   ],
   "source": [
    "0^0"
   ]
  },
  {
   "cell_type": "code",
   "execution_count": null,
   "id": "aacd5a28-2d0a-4ef7-9f91-14f6963851c6",
   "metadata": {},
   "outputs": [],
   "source": []
  }
 ],
 "metadata": {
  "kernelspec": {
   "display_name": "Python 3 (ipykernel)",
   "language": "python",
   "name": "python3"
  },
  "language_info": {
   "codemirror_mode": {
    "name": "ipython",
    "version": 3
   },
   "file_extension": ".py",
   "mimetype": "text/x-python",
   "name": "python",
   "nbconvert_exporter": "python",
   "pygments_lexer": "ipython3",
   "version": "3.9.5"
  }
 },
 "nbformat": 4,
 "nbformat_minor": 5
}
